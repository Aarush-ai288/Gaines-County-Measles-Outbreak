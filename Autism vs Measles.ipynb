import pandas as pd
import matplotlib.pyplot as plt
from scipy.stats import pearsonr
import seaborn as sns

# Example synthetic dataset (replace with your real data)
data = {
'Year': [2020, 2021, 2022, 2023, 2024],
'MMR_Vaccination_Rate': [95.2, 94, 93.5, 92.9, 92.7], # in %
'Autism_Rate': [27.6, 27, 32.2, 30, 30] # per 1,000 children
}

df = pd.DataFrame(data)

# Plot
sns.set(style="whitegrid")
plt.figure(figsize=(8, 6))
sns.regplot(x='MMR_Vaccination_Rate', y='Autism_Rate', data=df)
plt.title('MMR Vaccination Rate vs Autism Rate')
plt.xlabel('MMR Vaccination Rate (%)')
plt.ylabel('Autism Rate per 1,000 children')
plt.show()

# Pearson Correlation
correlation, p_value = pearsonr(df['MMR_Vaccination_Rate'], df['Autism_Rate'])
print(f'Correlation coefficient: {correlation:.3f}')
print(f'P-value: {p_value:.5f}')

# Interpretation
if p_value < 0.05:
    print("There is a statistically significant correlation.")
else:
    print("No statistically significant correlation found.")
